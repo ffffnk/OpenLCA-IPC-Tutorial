{
 "cells": [
  {
   "cell_type": "markdown",
   "id": "75ade72e-57ae-4bbb-81c5-02c8b4a69c02",
   "metadata": {},
   "source": [
    "## guide to openlca and ipc, how to automate openlca \n",
    "\n",
    "the aim of this example is to compute the environmental flows for 10 aluminium sandwich batches of 100 pieces each.\n",
    "the data, which would usually be collected from several places and maybe compiled in a csv is in this case given and directly stored as dataframes.\n",
    "using the dataframes, we will first do the basic environmental flow calculation without openlca.\n",
    "afterwards, we're gonna set up units, flows, and processes in openlca through an ipc connection, and conduct the computation there.\n",
    "\n",
    "some links:\n",
    "- docs: https://greendelta.github.io/openLCA-ApiDoc/ipc/intro.html\n",
    "- part of the docs all this is based on: https://greendelta.github.io/openLCA-ApiDoc/ipc/examples/pyipc_from_scratch.html\n",
    "- the openlca ipc python package: https://pypi.org/project/olca-ipc/\n",
    "\n",
    "### initial set up\n",
    "\n",
    "**python**\n",
    "in case you have never worked with python, there's abundant resources online, e.g. https://www.youtube.com/watch?v=rfscVS0vtbw .\n",
    "\n",
    "**jupyter notebooks**\n",
    "jupyter notebooks allows you to directly run the code within this tutorial and thus makes it easy to follow along. the setup is very easy and explained here: https://www.youtube.com/watch?v=WUeBzT43JyY\n",
    "alternatively, you can just copy paste all the code from this tutorial into your own script and run it there.\n",
    "\n",
    "**packages**\n",
    "in terms of packages, all we need is pandas and olca-ipc. run the commands below in the terminal after installing python (or use your preferred package manager)."
   ]
  },
  {
   "cell_type": "code",
   "execution_count": null,
   "id": "15b1d624-7092-4117-ac9a-1508eb470e48",
   "metadata": {
    "tags": []
   },
   "outputs": [],
   "source": [
    "!pip install olca-ipc\n",
    "!pip install pandas"
   ]
  },
  {
   "cell_type": "markdown",
   "id": "294d8ae9-ee62-451e-b5ba-c1e8d9efc831",
   "metadata": {},
   "source": [
    "in addition, you will need to \n",
    "\n",
    "### doing stuff without openLCA\n",
    "\n",
    "now we're gonna define the input and output d"
   ]
  },
  {
   "cell_type": "code",
   "execution_count": 21,
   "id": "7c1f6b8c-962b-436e-921c-e7be3e39c11f",
   "metadata": {
    "tags": []
   },
   "outputs": [],
   "source": [
    "import pandas as pd\n",
    "import numpy as np\n",
    "\n",
    "from typing import Callable"
   ]
  },
  {
   "cell_type": "markdown",
   "id": "02815a12-aadc-4f43-89fa-d594c5a29d5d",
   "metadata": {},
   "source": [
    "#### set up the basic process as a dataframe\n",
    "\n",
    "define processes and their relations. the data is given in the example, and we're using panda dataframes.\n",
    "these will also be used later on to set up things in openlca."
   ]
  },
  {
   "cell_type": "code",
   "execution_count": 22,
   "id": "e7296a49-52b6-4812-84b6-9f56c17143f1",
   "metadata": {
    "tags": []
   },
   "outputs": [
    {
     "name": "stdout",
     "output_type": "stream",
     "text": [
      "                            electricity production  aluminium production  \\\n",
      "electricity [MJ]                              1.00                 -50.0   \n",
      "aluminium [kg]                               -0.01                   1.0   \n",
      "aluminium foil [kg]                           0.00                   0.0   \n",
      "sandwich package [Item(s)]                    0.00                   0.0   \n",
      "\n",
      "                            aluminium foil production  \\\n",
      "electricity [MJ]                                 -1.0   \n",
      "aluminium [kg]                                   -1.0   \n",
      "aluminium foil [kg]                               1.0   \n",
      "sandwich package [Item(s)]                        0.0   \n",
      "\n",
      "                            sandwich package production  \n",
      "electricity [MJ]                                    0.0  \n",
      "aluminium [kg]                                      0.0  \n",
      "aluminium foil [kg]                                -1.0  \n",
      "sandwich package [Item(s)]                        100.0  \n",
      "                  electricity production  aluminium production  \\\n",
      "bauxite [kg]                         0.0                  -5.0   \n",
      "crude oil [kg]                      -0.5                   0.0   \n",
      "CO2 [kg]                             3.0                   0.0   \n",
      "solid waste [kg]                     2.0                  10.0   \n",
      "\n",
      "                  aluminium foil production  sandwich package production  \n",
      "bauxite [kg]                            0.0                          0.0  \n",
      "crude oil [kg]                          0.0                          0.0  \n",
      "CO2 [kg]                                0.0                          0.0  \n",
      "solid waste [kg]                        0.0                          1.0  \n"
     ]
    }
   ],
   "source": [
    "technosphere = pd.DataFrame(\n",
    "    data=[\n",
    "        [1.0, -50.0, -1.0, 0.0],\n",
    "        [-0.01, 1.0, -1.0, 0.0],\n",
    "        [0.0, 0.0, 1.0, -1.0],\n",
    "        [0.0, 0.0, 0.0, 100],\n",
    "    ],\n",
    "    columns=[\n",
    "        \"electricity production\",\n",
    "        \"aluminium production\",\n",
    "        \"aluminium foil production\",\n",
    "        \"sandwich package production\",\n",
    "    ],\n",
    "    index=[\n",
    "        \"electricity [MJ]\",\n",
    "        \"aluminium [kg]\",\n",
    "        \"aluminium foil [kg]\",\n",
    "        \"sandwich package [Item(s)]\",\n",
    "    ],\n",
    ")\n",
    "\n",
    "interventions = pd.DataFrame(\n",
    "    data=[\n",
    "        [0.0, -5.0, 0.0, 0.0],\n",
    "        [-0.5, 0.0, 0.0, 0.0],\n",
    "        [3.0, 0.0, 0.0, 0.0],\n",
    "        [2.0, 10.0, 0.0, 1.0],\n",
    "    ],\n",
    "    columns=technosphere.columns,\n",
    "    index=[\n",
    "        \"bauxite [kg]\",\n",
    "        \"crude oil [kg]\",\n",
    "        \"CO2 [kg]\",\n",
    "        \"solid waste [kg]\",\n",
    "    ],\n",
    ")\n",
    "\n",
    "print(technosphere)\n",
    "print(interventions)"
   ]
  },
  {
   "cell_type": "markdown",
   "id": "b5296b0e-cc03-49fa-9a55-7299865d96c1",
   "metadata": {},
   "source": [
    "#### compute elemental flows\n",
    "\n",
    "now we do the computation of the elemental flows for a functional unit of 10 sandwich packages using some matrix math."
   ]
  },
  {
   "cell_type": "code",
   "execution_count": 23,
   "id": "dcee56d8-376b-471a-8f11-431c686c87f8",
   "metadata": {
    "tags": []
   },
   "outputs": [
    {
     "name": "stdout",
     "output_type": "stream",
     "text": [
      "                      0\n",
      "bauxite [kg]      -1.01\n",
      "crude oil [kg]    -5.10\n",
      "CO2 [kg]          30.60\n",
      "solid waste [kg]  22.52\n"
     ]
    }
   ],
   "source": [
    "f = [\n",
    "    0.0,\n",
    "    0.0,\n",
    "    0.0,\n",
    "    10,\n",
    "]\n",
    "s = np.linalg.solve(technosphere.to_numpy(), f)\n",
    "g = interventions.to_numpy() @ s\n",
    "print(pd.DataFrame(g, index=interventions.index))\n"
   ]
  },
  {
   "cell_type": "markdown",
   "id": "c0b53e67-a812-4868-8935-d0fd0be4f11f",
   "metadata": {},
   "source": [
    "### doing the same with openlca through ipc, starting from an empty db\n",
    "\n",
    "#### set up stuff in openlca\n",
    "\n",
    "start openlca\n",
    "create new *empty* database called 'ipc_from_scratch'\n",
    "go to tools > developer tools > ipc server\n",
    "click run (keep default port 8080) and allow as admin\n",
    "\n",
    "#### connect to ipc of running local openlca "
   ]
  },
  {
   "cell_type": "code",
   "execution_count": 24,
   "id": "adf77cae-226d-4c52-ad84-55c1e1facb27",
   "metadata": {
    "tags": []
   },
   "outputs": [],
   "source": [
    "import olca_ipc as ipc\n",
    "import olca_schema as o\n",
    "\n",
    "client = ipc.Client(8080)\n"
   ]
  },
  {
   "cell_type": "markdown",
   "id": "93ab11e0-ac35-4b69-a1aa-a7ce4487813c",
   "metadata": {},
   "source": [
    "#### set up new units and flow properties in the empty db\n",
    "\n",
    "create new units with `new_unit_group('name', 'short')`\n",
    "create new flow properties with `new_flow_property('name', unit)`\n",
    "\n",
    "shove it into the empty db using `client.put_all(...)`"
   ]
  },
  {
   "cell_type": "code",
   "execution_count": 26,
   "id": "67856bd7-7888-498d-bfb8-06e8da603a59",
   "metadata": {
    "tags": []
   },
   "outputs": [],
   "source": [
    "mass_units = o.new_unit_group(\"Mass units\", \"kg\")\n",
    "energy_units = o.new_unit_group(\"Energy units\", \"MJ\")\n",
    "counting_units = o.new_unit_group(\"Counting units\", \"Item(s)\")\n",
    "mass = o.new_flow_property(\"Mass\", mass_units)\n",
    "energy = o.new_flow_property(\"Energy\", energy_units)\n",
    "count = o.new_flow_property(\"Number of items\", counting_units)\n",
    "\n",
    "client.put_all(\n",
    "    mass_units,\n",
    "    energy_units,\n",
    "    counting_units,\n",
    "    mass,\n",
    "    energy,\n",
    "    count,\n",
    ")"
   ]
  },
  {
   "attachments": {
    "7e07ad8d-b88b-4e88-817b-ac0c2519d04a.png": {
     "image/png": "[encoded data removed]"
    },
    "95eed7f2-97e3-4868-8593-9bd35b7b6dca.png": {
     "image/png": "[encoded data removed]"
    }
   },
   "cell_type": "markdown",
   "id": "2241b065-db1d-4658-bd03-101fc78e1465",
   "metadata": {},
   "source": [
    "verify it worked by refreshing the navigator\n",
    "\n",
    "![image.png](attachment:7e07ad8d-b88b-4e88-817b-ac0c2519d04a.png)![image.png](attachment:95eed7f2-97e3-4868-8593-9bd35b7b6dca.png)\n",
    "\n",
    "usually you'll use existing flowproperties, which can be retrieved from any *real* db using **client.get(what, filter)**"
   ]
  },
  {
   "cell_type": "code",
   "execution_count": 16,
   "id": "89281460-52be-49f3-afe5-68c3392ea7a2",
   "metadata": {
    "tags": []
   },
   "outputs": [
    {
     "name": "stdout",
     "output_type": "stream",
     "text": [
      "{\n",
      "  \"@type\": \"FlowProperty\",\n",
      "  \"@id\": \"53572e75-d680-4c0c-9159-11c21ae75820\",\n",
      "  \"lastChange\": \"2024-02-22T12:59:54.681Z\",\n",
      "  \"name\": \"Mass\",\n",
      "  \"unitGroup\": {\n",
      "    \"@type\": \"UnitGroup\",\n",
      "    \"@id\": \"33f623ba-12f3-4740-a41a-4b1ecd2515c9\",\n",
      "    \"name\": \"Mass units\"\n",
      "  },\n",
      "  \"version\": \"01.00.000\"\n",
      "}\n"
     ]
    }
   ],
   "source": [
    "print(client.get(o.FlowProperty, name=\"Mass\").to_json())\n"
   ]
  },
  {
   "cell_type": "markdown",
   "id": "c3e7137e-9bd3-489b-8dc9-3462a977b65b",
   "metadata": {},
   "source": [
    "#### create the actual flows\n",
    "\n",
    "using a custom function called `create_flow(rowlabel, callable)`, which takes the individual entry and turns it into a new product or elementary flow (as in the usual openlca definitions).\n",
    "\n",
    "> sidenote: a callable is a datatype refering to sth that can be called. further definitions can be given, e.g. when used as argument like it is here. callable[[arguments],[returnvalues]] where arguments and returnvalues can be specified as specific datatypes\n",
    "\n",
    "then we iterate over teh technosphere and intervention (environmental flows) and turn them into actual flows using the new function\n"
   ]
  },
  {
   "cell_type": "code",
   "execution_count": 17,
   "id": "f69b20ba-0852-435d-be29-a91b8209ce9d",
   "metadata": {
    "tags": []
   },
   "outputs": [],
   "source": [
    "from typing import Callable\n",
    "\n",
    "def create_flow(\n",
    "    row_label: str, fn: Callable[[str, o.FlowProperty], o.Flow]\n",
    ") -> o.Flow:\n",
    "    parts = row_label.split(\"[\")\n",
    "    name = parts[0].strip()\n",
    "    unit = parts[1][0:-1].strip()\n",
    "    match unit:\n",
    "        case \"kg\":\n",
    "            prop = mass\n",
    "        case \"MJ\":\n",
    "            prop = energy\n",
    "        case \"Item(s)\":\n",
    "            prop = count\n",
    "    flow = fn(name, prop)\n",
    "    client.put(flow)\n",
    "    return flow\n",
    "\n",
    "\n",
    "tech_flows = [create_flow(label, o.new_product) for label in technosphere.index]\n",
    "envi_flows = [\n",
    "    create_flow(label, o.new_elementary_flow) for label in interventions.index\n",
    "]\n"
   ]
  },
  {
   "cell_type": "markdown",
   "id": "5b1667d6-e606-41fe-80ef-758561b9f23e",
   "metadata": {},
   "source": [
    "#### create the actual processes thru code\n",
    "\n",
    "set up the new processes in openlca through the ipc using\n",
    "\n",
    "- `new_process(name)`                         to set it up\n",
    "- `new_input(process, flow, value)`           create a new input for the defined process with a defined amount (value) of a defined flow  \n",
    "- `new_output(process, flow, value)`          create a new output for the defined process with a defined amount (value) of a defined flow  \n",
    "- `custom function: exchange(flow, float)`    to sort the inputs and outputs, stored in a single dataframe and distinguished by sign into inputs and outputs and actually add them to the new process\n",
    "\n",
    "create a new process (for now just a variable, no in the openlca instance)\n",
    "iterate over the dataframes, call exchange for all entries and set them as is_quantitative_reference if their index in the dataframe is the same as the current iteration step\n",
    "do this for both techno & biosphere\n",
    "add the finished process to the local openlca instance using client.put(process)"
   ]
  },
  {
   "cell_type": "code",
   "execution_count": 18,
   "id": "4174271a-2de8-488d-afa0-d36ecec4e90f",
   "metadata": {
    "tags": []
   },
   "outputs": [],
   "source": [
    "def create_process(index: int, name: str) -> o.Process:\n",
    "    process = o.new_process(name)\n",
    "\n",
    "    def exchange(flow: o.Flow, value: float) -> o.Exchange | None:\n",
    "        if value == 0:\n",
    "            return None\n",
    "        if value < 0:\n",
    "            return o.new_input(process, flow, abs(value))\n",
    "        else:\n",
    "            return o.new_output(process, flow, value)\n",
    "\n",
    "    for (i, tech_flow) in enumerate(tech_flows):\n",
    "        value = technosphere.iat[i, index]\n",
    "        e = exchange(tech_flow, value)\n",
    "        if e and i == index:\n",
    "            e.is_quantitative_reference = True\n",
    "\n",
    "    for (i, envi_flow) in enumerate(envi_flows):\n",
    "        value = interventions.iat[i, index]\n",
    "        exchange(envi_flow, value)\n",
    "\n",
    "    client.put(process)\n",
    "    return process\n",
    "\n",
    "\n",
    "processes = [\n",
    "    create_process(index, name)\n",
    "    for (index, name) in enumerate(technosphere.columns)\n",
    "]"
   ]
  },
  {
   "cell_type": "markdown",
   "id": "56531fcb-83bc-424e-bc32-ef8f04c1702c",
   "metadata": {},
   "source": [
    "### next up we calculate the inventory (so all environmental flows, no products)\n",
    "\n",
    "prep the calculation using `CalculationSetup(target, unit, amount)`\n",
    "target specifies what should be calculated.\n",
    "the correct object can be retrieved through `o.Ref(ref_type, id)` by providing the o.RefType.Process and the id of the sandwich making process, which we stored in the list above.\n",
    "unit is set to item count\n",
    "amount is given as 10. fyi, the functional unit variable `f` we used to calculate stuff above was not used in computing the inputs, so this is not redundant\n",
    "\n",
    "then we actually conduct the calculation using `client.calculate(setup)` and wait til it's done."
   ]
  },
  {
   "cell_type": "code",
   "execution_count": 19,
   "id": "c501fa75-09c0-4130-99c0-86654de71ef4",
   "metadata": {
    "tags": []
   },
   "outputs": [
    {
     "data": {
      "text/plain": [
       "ResultState(id='1c8db550-d130-4600-bc98-f8a143c82668', error=None, is_ready=True, is_scheduled=False, time=1708606810059)"
      ]
     },
     "execution_count": 19,
     "metadata": {},
     "output_type": "execute_result"
    }
   ],
   "source": [
    "setup = o.CalculationSetup(\n",
    "    target=o.Ref(ref_type=o.RefType.Process, id=processes[3].id),\n",
    "    unit=count.unit_group.ref_unit,  # \"Item(s)\"\n",
    "    amount=10,\n",
    ")\n",
    "result = client.calculate(setup)\n",
    "result.wait_until_ready()"
   ]
  },
  {
   "cell_type": "markdown",
   "id": "86322fef-1e21-41e1-9219-7dcdc251390f",
   "metadata": {},
   "source": [
    "### now to check for the result of the computation\n",
    "\n",
    "check the results and print them prettily"
   ]
  },
  {
   "cell_type": "code",
   "execution_count": 20,
   "id": "ef60bf44-690a-462b-8fe3-d0537d3916af",
   "metadata": {
    "tags": []
   },
   "outputs": [
    {
     "name": "stdout",
     "output_type": "stream",
     "text": [
      "          Flow  Is input?  Amount Unit\n",
      "0    crude oil       True    5.10   kg\n",
      "1          CO2      False   30.60   kg\n",
      "2  solid waste      False   22.52   kg\n",
      "3      bauxite       True    1.01   kg\n"
     ]
    }
   ],
   "source": [
    "inventory = result.get_total_flows()\n",
    "print(\n",
    "    pd.DataFrame(\n",
    "        data=[\n",
    "            (\n",
    "                i.envi_flow.flow.name,\n",
    "                i.envi_flow.is_input,\n",
    "                i.amount,\n",
    "                i.envi_flow.flow.ref_unit,\n",
    "            )\n",
    "            for i in inventory\n",
    "        ],\n",
    "        columns=[\"Flow\", \"Is input?\", \"Amount\", \"Unit\"],\n",
    "    )\n",
    ")"
   ]
  },
  {
   "cell_type": "markdown",
   "id": "f08b36c6-ca1d-48cb-93e1-c28c02f3bf77",
   "metadata": {},
   "source": [
    "### yay we done\n",
    "\n",
    "delete the results and wipe the client to clean up."
   ]
  },
  {
   "cell_type": "code",
   "execution_count": null,
   "id": "8e9de2f7-b0d2-4317-8d8c-4b5da4c0e554",
   "metadata": {
    "tags": []
   },
   "outputs": [],
   "source": [
    "result.dispose()\n",
    "client = None"
   ]
  },
  {
   "cell_type": "markdown",
   "id": "6143090d-424a-4da8-b637-d6c57df34197",
   "metadata": {},
   "source": [
    "> sidenote: if you wanna check what you can do with the client and ipc in general, you can check out the repo: https://github.com/GreenDelta/olca-ipc.py/blob/master/olca_ipc/ipc.py\n",
    "\n",
    "## part 2 - impact assessment boogaloo\n",
    "\n",
    "this is not part of the original tutorial, but also relevant.\n",
    "the aim is to learn to work with an actual database and conduct an impact assessment for an existing process.\n",
    "we won't set up a new process, as it essentially works the same it did in the empty db.\n",
    "\n",
    "for this, we need to actually use a real database (and not an empty one)\n",
    "switch to the openlca window, and close the ipc connection.\n",
    "then, open another database, ideally a newly downloaded one as we don't want to mess up existing work nexus.openlca.org/downloads\n",
    "again, go to tools > developer tools > ipc server and start it on port 8080.\n",
    "\n"
   ]
  },
  {
   "cell_type": "code",
   "execution_count": null,
   "id": "dbf4e2c7-a6f1-4c99-822e-57d984ac2d43",
   "metadata": {},
   "outputs": [],
   "source": [
    "import pprint as pp              #just for pretty prints\n",
    "client = ipc.Client(8080)"
   ]
  },
  {
   "cell_type": "markdown",
   "id": "9def88ac-1f43-4f3f-b412-1fdd953d9fc1",
   "metadata": {
    "tags": []
   },
   "source": [
    "### getting a process\n",
    "\n",
    "first we get an overview of how many there are.\n",
    "use `get_descriptor()` instead of `get_all()` as the latter might crash the server for large databases.\n",
    "the info we get through `get_descriptor()` is limited to a few basic properties.  "
   ]
  },
  {
   "cell_type": "code",
   "execution_count": null,
   "id": "6ae0a1d2-ad66-4981-8f71-dd0361f7d71b",
   "metadata": {
    "tags": []
   },
   "outputs": [],
   "source": [
    "processDescriptors = pd.DataFrame(client.get_descriptors(o.Process))\n",
    "\n",
    "print(f'Number of processes: {len(processDescriptors.index)}')\n",
    "print(f'Available data: {\", \".join(processDescriptors.columns)}')"
   ]
  },
  {
   "cell_type": "markdown",
   "id": "457c0940-ee98-47e1-bb65-179421899688",
   "metadata": {},
   "source": [
    "to actually get a process, we have to know its ID or name (the latter might return multiple).\n",
    "we're gonna start by getting the id of the process through the descriptor list, and then actually querying for the entire entry.\n",
    "take a look at the process data and structure."
   ]
  },
  {
   "cell_type": "code",
   "execution_count": null,
   "id": "6c0e6493-8f5e-4a9f-bb9f-4cad6522ebc8",
   "metadata": {
    "tags": []
   },
   "outputs": [],
   "source": [
    "testProcessID = processDescriptors.id[0]\n",
    "testProcess = client.get(o.Process, testProcessID)   #use the same function but with a string to search by name\n",
    "pp.pprint(testProcess)"
   ]
  },
  {
   "cell_type": "markdown",
   "id": "0b7745a2-6389-4022-be4e-c0ab52b15f7b",
   "metadata": {},
   "source": [
    "#### creating a product system\n",
    "\n",
    "in a next step, we'll turn the process into a product system.\n",
    "this is necessary to conduct an impact assessment."
   ]
  },
  {
   "cell_type": "code",
   "execution_count": null,
   "id": "08a56051-1f4f-4122-ac78-017df84aee89",
   "metadata": {
    "tags": []
   },
   "outputs": [],
   "source": [
    "processRef = client.find(o.Process, testProcess.name)\n",
    "config = o.LinkingConfig(\n",
    "    prefer_unit_processes=True,\n",
    "    provider_linking=o.ProviderLinking.PREFER_DEFAULTS,\n",
    ")\n",
    "productSystemRef = client.create_product_system(process_ref, config)\n",
    "print(f\"created product system {system_ref.name}, id={system_ref.id}\")"
   ]
  },
  {
   "cell_type": "markdown",
   "id": "34461165-a7aa-49b6-bdef-823f8a73165c",
   "metadata": {},
   "source": [
    "### conducting the impact assessment\n",
    "\n",
    "now let's check which assessment methods are available."
   ]
  },
  {
   "cell_type": "code",
   "execution_count": null,
   "id": "56096f58-69ef-4370-8c16-0ae48dc2d1d9",
   "metadata": {
    "tags": []
   },
   "outputs": [],
   "source": [
    "methods = client.get_descriptors(o.ImpactMethod)\n",
    "for method in methods:\n",
    "    print(f\"{method.name} :: {method.id}\")"
   ]
  },
  {
   "cell_type": "markdown",
   "id": "821815af-1d13-4d7b-8223-6ab925685af1",
   "metadata": {},
   "source": [
    "hopefully you got a nice list.\n",
    "again, to keep it simple, we're gonna use the first one and apply it to our process using the calculate setup"
   ]
  },
  {
   "cell_type": "code",
   "execution_count": null,
   "id": "1331fe5e-510b-405c-a958-eb1e404befbd",
   "metadata": {
    "tags": []
   },
   "outputs": [],
   "source": [
    "method = methods[0] if methods else print(\"no  methods found. check your database\")\n",
    "setup = o.CalculationSetup(\n",
    "    target=o.Ref(\n",
    "        ref_type=o.RefType.ProductSystem,\n",
    "        id=productSystemRef.id,\n",
    "    ),\n",
    "    impact_method=o.Ref(id=method.id),\n",
    ")\n",
    "result = client.calculate(setup)\n",
    "result.wait_until_ready()"
   ]
  },
  {
   "cell_type": "markdown",
   "id": "903c02ae-d9f0-4bf8-9834-a276b553c72f",
   "metadata": {},
   "source": [
    "Now we just need to get the actual impact category values and make them look neat."
   ]
  },
  {
   "cell_type": "code",
   "execution_count": null,
   "id": "f62e79a3-2b2f-4f4f-8a48-b6c46a846fef",
   "metadata": {
    "tags": []
   },
   "outputs": [],
   "source": [
    "impactResults = result.get_total_impacts()\n",
    "\n",
    "prettyResults = pd.DataFrame(\n",
    "    data=[(\n",
    "            impactValue.impact_category.name,\n",
    "            impactValue.amount,\n",
    "            impactValue.impact_category.ref_unit            \n",
    "        )\n",
    "        for impactValue in impactResults\n",
    "    ],\n",
    "    columns=[\"impact category\", \"amount\", \"unit\"],\n",
    ")\n",
    "\n",
    "prettyResults.sort_values(by=['impact category'])\n"
   ]
  },
  {
   "cell_type": "markdown",
   "id": "51cb02fc-86c4-417c-8a6f-daa9effb5808",
   "metadata": {},
   "source": [
    "## yay all done"
   ]
  }
 ],
 "metadata": {
  "kernelspec": {
   "display_name": "Python 3 (ipykernel)",
   "language": "python",
   "name": "python3"
  },
  "language_info": {
   "codemirror_mode": {
    "name": "ipython",
    "version": 3
   },
   "file_extension": ".py",
   "mimetype": "text/x-python",
   "name": "python",
   "nbconvert_exporter": "python",
   "pygments_lexer": "ipython3",
   "version": "3.11.5"
  }
 },
 "nbformat": 4,
 "nbformat_minor": 5
}
